{
 "cells": [
  {
   "cell_type": "markdown",
   "id": "86570d56",
   "metadata": {},
   "source": [
    "1. DATA COLLECTION"
   ]
  },
  {
   "cell_type": "code",
   "execution_count": 4,
   "id": "2101e27b",
   "metadata": {},
   "outputs": [
    {
     "name": "stdout",
     "output_type": "stream",
     "text": [
      "Weather data for DELHI is saved.\n"
     ]
    }
   ],
   "source": [
    "import os\n",
    "import requests\n",
    "import pandas as pd\n",
    "from datetime import datetime, timedelta\n",
    "\n",
    "API_KEY = \"9618b15b404c16cb81c2bcf7608ca142\"\n",
    "CITY = \"DELHI\"\n",
    "\n",
    "def fetch_weather_data():\n",
    "    records = []\n",
    "    for hour_offset in range(5, 0, -1):\n",
    "        date_time = int((datetime.now() - timedelta(hours=hour_offset)).timestamp())\n",
    "        url = f\"https://api.openweathermap.org/data/2.5/weather?q={CITY}&appid={API_KEY}&units=metric\"\n",
    "        response = requests.get(url)\n",
    "        if response.status_code != 200:\n",
    "            print(f\"Failed to fetch for hour offset {hour_offset}\")\n",
    "            continue\n",
    "        data = response.json()\n",
    "        record = {\n",
    "            \"city\": CITY,\n",
    "            \"date_time\": datetime.now() - timedelta(hours=hour_offset),\n",
    "            \"temperature\": data[\"main\"][\"temp\"],\n",
    "            \"humidity\": data[\"main\"][\"humidity\"],\n",
    "            \"wind_speed\": data[\"wind\"][\"speed\"],\n",
    "            \"wind_direction\": data[\"wind\"].get(\"deg\", 0),\n",
    "            \"pressure\": data[\"main\"][\"pressure\"],\n",
    "            \"precipitation\": data.get(\"rain\", {}).get(\"1h\", 0),\n",
    "            \"cloud_coverage\": data[\"clouds\"][\"all\"],\n",
    "            \"weather_condition\": data[\"weather\"][0][\"main\"]\n",
    "        }\n",
    "        records.append(record)\n",
    "\n",
    "    if records:\n",
    "        df = pd.DataFrame(records)\n",
    "        os.makedirs(\"data/processed\", exist_ok=True)\n",
    "        csv_file = \"data/processed/weather_data.csv\"\n",
    "        write_header = not os.path.exists(csv_file)\n",
    "        df.to_csv(csv_file, mode='a', index=False, header=write_header)\n",
    "        print(f\"Weather data for {CITY} is saved.\")\n",
    "    \n",
    "if __name__ == '__main__':\n",
    "    fetch_weather_data()"
   ]
  },
  {
   "cell_type": "markdown",
   "id": "ef7fab57",
   "metadata": {},
   "source": [
    "2. MODEL TRAINING"
   ]
  },
  {
   "cell_type": "code",
   "execution_count": 8,
   "id": "48c304dd",
   "metadata": {},
   "outputs": [
    {
     "name": "stdout",
     "output_type": "stream",
     "text": [
      "Accuracy: 1.0\n",
      "Model for trained and saved.\n"
     ]
    }
   ],
   "source": [
    "import pandas as pd\n",
    "from sklearn.model_selection import train_test_split\n",
    "from sklearn.ensemble import RandomForestClassifier\n",
    "from sklearn.metrics import accuracy_score\n",
    "import joblib\n",
    "import os\n",
    "\n",
    "def train_model():\n",
    "    df = pd.read_csv(\"data/processed/weather_data.csv\")\n",
    "    df.dropna(inplace=True)\n",
    "\n",
    "    if len(df) < 5:\n",
    "        print(\"Not enough data to train the model. Please check your dataset.\")\n",
    "        return\n",
    "\n",
    "    X = df[[\"temperature\", \"humidity\", \"wind_speed\", \"wind_direction\", \"pressure\", \"precipitation\", \"cloud_coverage\"]]\n",
    "    y = df[\"weather_condition\"]\n",
    "\n",
    "    X_train, X_test, y_train, y_test = train_test_split(X, y, test_size=0.2, random_state=42)\n",
    "\n",
    "    model = RandomForestClassifier(n_estimators=100, random_state=42)\n",
    "    model.fit(X_train, y_train)\n",
    "    y_pred = model.predict(X_test)\n",
    "\n",
    "    print(\"Accuracy:\", accuracy_score(y_test, y_pred))\n",
    "\n",
    "    os.makedirs(\"models\",exist_ok=True)\n",
    "    joblib.dump(model,\"models/weather_model.pkl\")\n",
    "    print(\"Model for trained and saved.\")\n",
    "\n",
    "if __name__ == '__main__':\n",
    "    train_model()"
   ]
  },
  {
   "cell_type": "markdown",
   "id": "ef7e2efb",
   "metadata": {},
   "source": [
    "3. PREDICTION SCRIPT\n",
    "\n",
    "\n"
   ]
  },
  {
   "cell_type": "code",
   "execution_count": 9,
   "id": "2e03bab0",
   "metadata": {},
   "outputs": [
    {
     "name": "stdout",
     "output_type": "stream",
     "text": [
      "Predicted Weather Condition: Clouds\n"
     ]
    }
   ],
   "source": [
    "import os\n",
    "import pandas as pd\n",
    "import joblib\n",
    "from datetime import datetime\n",
    "\n",
    "\n",
    "def predict_new():\n",
    "    df = pd.read_csv(\"data/processed/weather_data.csv\")\n",
    "    \n",
    "    latest = df.tail(5).mean(numeric_only=True).to_frame().T[[\"temperature\", \"humidity\", \"wind_speed\", \"wind_direction\", \"pressure\", \"precipitation\", \"cloud_coverage\"]]\n",
    "\n",
    "    model = joblib.load(\"models/weather_model.pkl\")\n",
    "    prediction = model.predict(latest)[0]\n",
    "\n",
    "    print(\"Predicted Weather Condition:\", prediction)\n",
    "    result = pd.DataFrame({\"city\":[CITY], \"date_time\": [datetime.now()], \"forecasted_weather\": [prediction]})\n",
    "    os.makedirs(\"data/predictions\", exist_ok=True)\n",
    "    result.to_csv(\"data/predictions/forecast.csv\", mode='a', index=False, header=False)\n",
    "\n",
    "\n",
    "if __name__ == '__main__':\n",
    "    predict_new()"
   ]
  },
  {
   "cell_type": "markdown",
   "id": "72013875",
   "metadata": {},
   "source": [
    "4. SCHEDULER"
   ]
  },
  {
   "cell_type": "code",
   "execution_count": null,
   "id": "234212f9",
   "metadata": {},
   "outputs": [
    {
     "name": "stdout",
     "output_type": "stream",
     "text": [
      "Scheduler started. Running every minutes.\n",
      "\n",
      "Weather data for DELHI is saved.\n",
      "Accuracy: 1.0\n",
      "Model for trained and saved.\n",
      "Predicted Weather Condition: Clouds\n",
      "Weather data for DELHI is saved.\n",
      "Accuracy: 1.0\n",
      "Model for trained and saved.\n",
      "Predicted Weather Condition: Clouds\n"
     ]
    }
   ],
   "source": [
    "import schedule\n",
    "import time\n",
    "\n",
    "def run_pipeline():\n",
    "    fetch_weather_data()\n",
    "    train_model()\n",
    "    predict_new()\n",
    "\n",
    "def start_scheduler():\n",
    "    schedule.every(1).minutes.do(run_pipeline)\n",
    "    print(\"Scheduler started. Running every minutes.\\n\")\n",
    "\n",
    "    while True:\n",
    "        schedule.run_pending()\n",
    "        time.sleep(60)\n",
    "\n",
    "start_scheduler()"
   ]
  }
 ],
 "metadata": {
  "kernelspec": {
   "display_name": "weather",
   "language": "python",
   "name": "python3"
  },
  "language_info": {
   "codemirror_mode": {
    "name": "ipython",
    "version": 3
   },
   "file_extension": ".py",
   "mimetype": "text/x-python",
   "name": "python",
   "nbconvert_exporter": "python",
   "pygments_lexer": "ipython3",
   "version": "3.12.5"
  }
 },
 "nbformat": 4,
 "nbformat_minor": 5
}
